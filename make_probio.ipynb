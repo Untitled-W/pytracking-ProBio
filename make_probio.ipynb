{
 "cells": [
  {
   "cell_type": "code",
   "execution_count": 2,
   "metadata": {},
   "outputs": [],
   "source": [
    "probio_path = '/mnt/data/qizhezhang/Tracks/aot-benchmark/ProBio'\n",
    "import os\n",
    "import shutil\n",
    "import json\n",
    "import numpy as np"
   ]
  },
  {
   "cell_type": "code",
   "execution_count": 5,
   "metadata": {},
   "outputs": [],
   "source": [
    "for vn in os.listdir(probio_path):\n",
    "    shutil.copytree(f'{probio_path}/{vn}/gt',f'./2019/probio/Annotations/{vn}')\n",
    "    shutil.copytree(f'{probio_path}/{vn}/images',f'./2019/probio/JPEGImages/{vn}')"
   ]
  },
  {
   "cell_type": "code",
   "execution_count": 11,
   "metadata": {},
   "outputs": [],
   "source": [
    "probio_meta = {'videos':{}}\n",
    "from collections import defaultdict\n",
    "\n",
    "def transfer(v_json):\n",
    "    obj = defaultdict(list)\n",
    "    for k in v_json:\n",
    "        frame = k['path']\n",
    "        for i in k['items']:\n",
    "            try:\n",
    "                obj[255-int(i['object_id'])].append(frame)\n",
    "            except:\n",
    "                pass\n",
    "    v_meta = {'objects':{i:{'frames':j} for i,j in obj.items()}}\n",
    "    return v_meta    \n",
    "\n",
    "for vn in os.listdir(probio_path):\n",
    "    v_json = json.load(open(f'{probio_path}/{vn}/label.json'))\n",
    "    # v_json to v_meta\n",
    "    v_meta = transfer(v_json)\n",
    "    probio_meta['videos'][vn] = v_meta"
   ]
  },
  {
   "cell_type": "code",
   "execution_count": 12,
   "metadata": {},
   "outputs": [],
   "source": [
    "with open('./2019/probio/meta.json','w') as f:\n",
    "    json.dump(probio_meta,f, indent=4)"
   ]
  },
  {
   "cell_type": "code",
   "execution_count": 10,
   "metadata": {},
   "outputs": [
    {
     "data": {
      "text/plain": [
       "['0802_RGB_0_0',\n",
       " '0802_RGB_0_1',\n",
       " '0802_RGB_0_2',\n",
       " '0802_RGB_0_3',\n",
       " '0802_RGB_0_4',\n",
       " '0810_0_0_5',\n",
       " '0810_2_0_0',\n",
       " '0810_2_0_2',\n",
       " '0810_RGB_0_1',\n",
       " '0913_0_0_3',\n",
       " '0913_2_0_1',\n",
       " '0913_2_0_2',\n",
       " '0913_RGB_0_0',\n",
       " '1017_2_1_0',\n",
       " '1017_2_1_1',\n",
       " '1017_2_1_10',\n",
       " '1017_2_1_11',\n",
       " '1017_2_1_12',\n",
       " '1017_2_1_13',\n",
       " '1017_2_1_2',\n",
       " '1017_2_1_3',\n",
       " '1017_2_1_4',\n",
       " '1017_2_1_5',\n",
       " '1017_2_1_6',\n",
       " '1017_2_1_7',\n",
       " '1017_2_1_8',\n",
       " '1017_2_1_9']"
      ]
     },
     "execution_count": 10,
     "metadata": {},
     "output_type": "execute_result"
    }
   ],
   "source": [
    "os.listdir('./2019/probio/Annotations')"
   ]
  }
 ],
 "metadata": {
  "kernelspec": {
   "display_name": "track",
   "language": "python",
   "name": "python3"
  },
  "language_info": {
   "codemirror_mode": {
    "name": "ipython",
    "version": 3
   },
   "file_extension": ".py",
   "mimetype": "text/x-python",
   "name": "python",
   "nbconvert_exporter": "python",
   "pygments_lexer": "ipython3",
   "version": "3.7.16"
  }
 },
 "nbformat": 4,
 "nbformat_minor": 2
}
