{
 "cells": [
  {
   "cell_type": "code",
   "execution_count": 22,
   "metadata": {},
   "outputs": [
    {
     "name": "stdout",
     "output_type": "stream",
     "text": [
      "result_dimp_dimp50.csv\n",
      "0.6315 & 0.1645 & 0.1703 & 0.1208 & 0.8297 & 0.6074 & 0.8078 & 0.5807 & 0.8122 & 0.5802\n",
      "result_dimp_prdimp50.csv\n",
      "0.6653 & 0.2055 & 0.1570 & 0.1044 & 0.8470 & 0.6260 & 0.8247 & 0.6048 & 0.8271 & 0.5932\n",
      "result_lwl_lwl_boxinit.csv\n",
      "-0.3944 & -0.7236 & 0.2401 & 0.1277 & 0.3166 & 0.1656 & 0.3082 & 0.1599 & 0.3101 & 0.1591\n",
      "result_kys_default.csv\n",
      "0.6316 & 0.1449 & 0.1698 & 0.1202 & 0.8299 & 0.5970 & 0.8081 & 0.5749 & 0.8121 & 0.5661\n",
      "result_atom_default.csv\n",
      "0.6419 & 0.2066 & 0.1852 & 0.1316 & 0.8351 & 0.6323 & 0.8132 & 0.5993 & 0.8165 & 0.5957\n",
      "result_tomp_tomp101.csv\n",
      "0.6306 & 0.1954 & 0.1310 & 0.0882 & 0.8299 & 0.6265 & 0.8080 & 0.5962 & 0.8097 & 0.5882\n"
     ]
    }
   ],
   "source": [
    "csv_root = '/mnt/data/qizhezhang/pytracking/pytracking/tracking_csv'\n",
    "\n",
    "import os\n",
    "import pandas as pd\n",
    "import numpy as np\n",
    "\n",
    "csv_files = os.listdir(csv_root)\n",
    "for j in range(len(csv_files)):\n",
    "    page = pd.read_csv(os.path.join(csv_root, csv_files[j]))\n",
    "    print(csv_files[j])\n",
    "\n",
    "    # 获得列名为MOTA MOTP Rcll Prcn IDF1的五列的最后一行\n",
    "    five_column = page[['MOTA', 'MOTP', 'Rcll', 'Prcn', 'IDF1']].to_numpy().T\n",
    "    results = []\n",
    "    for i in five_column:\n",
    "        # i是一个numpy数组，计算最小的十五个数的平均值\n",
    "        hard = i[np.argsort(i[:-1])[:15]].mean()\n",
    "        results.append((i[-1],hard))\n",
    "    print(' & '.join(['{:.4f} & {:.4f}'.format(*result) for result in results]))"
   ]
  }
 ],
 "metadata": {
  "kernelspec": {
   "display_name": "track",
   "language": "python",
   "name": "python3"
  },
  "language_info": {
   "codemirror_mode": {
    "name": "ipython",
    "version": 3
   },
   "file_extension": ".py",
   "mimetype": "text/x-python",
   "name": "python",
   "nbconvert_exporter": "python",
   "pygments_lexer": "ipython3",
   "version": "3.7.16"
  }
 },
 "nbformat": 4,
 "nbformat_minor": 2
}
