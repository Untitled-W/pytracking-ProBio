{
 "cells": [
  {
   "cell_type": "markdown",
   "metadata": {},
   "source": [
    "# Generating Results on Datasets"
   ]
  },
  {
   "cell_type": "code",
   "execution_count": 2,
   "metadata": {},
   "outputs": [],
   "source": [
    "%load_ext autoreload\n",
    "%autoreload 2\n",
    "%matplotlib inline\n",
    "import os\n",
    "import sys\n",
    "import matplotlib.pyplot as plt\n",
    "plt.rcParams['figure.figsize'] = [14, 8]\n",
    "\n",
    "sys.path.append('../..')\n",
    "from pytracking.analysis.plot_results import plot_results, print_results, print_per_sequence_results, print_results_vos\n",
    "from pytracking.evaluation import Tracker, get_dataset, trackerlist"
   ]
  },
  {
   "cell_type": "code",
   "execution_count": 3,
   "metadata": {},
   "outputs": [
    {
     "name": "stderr",
     "output_type": "stream",
     "text": [
      "100%|██████████| 180/180 [00:00<00:00, 766.09it/s]"
     ]
    },
    {
     "name": "stdout",
     "output_type": "stream",
     "text": [
      "Result not found. /mnt/data/qizhezhang/pytracking/pytracking/tracking_results//atom/default/GOT-10k_Val_000073.txt\n",
      "Result not found. /mnt/data/qizhezhang/pytracking/pytracking/tracking_results//atom/default/GOT-10k_Val_000074.txt\n",
      "Result not found. /mnt/data/qizhezhang/pytracking/pytracking/tracking_results//atom/default/GOT-10k_Val_000075.txt\n",
      "Result not found. /mnt/data/qizhezhang/pytracking/pytracking/tracking_results//atom/default/GOT-10k_Val_000076.txt\n",
      "Result not found. /mnt/data/qizhezhang/pytracking/pytracking/tracking_results//atom/default/GOT-10k_Val_000077.txt\n",
      "Result not found. /mnt/data/qizhezhang/pytracking/pytracking/tracking_results//atom/default/GOT-10k_Val_000078.txt\n",
      "Result not found. /mnt/data/qizhezhang/pytracking/pytracking/tracking_results//atom/default/GOT-10k_Val_000079.txt\n",
      "Result not found. /mnt/data/qizhezhang/pytracking/pytracking/tracking_results//atom/default/GOT-10k_Val_000080.txt\n",
      "Result not found. /mnt/data/qizhezhang/pytracking/pytracking/tracking_results//atom/default/GOT-10k_Val_000081.txt\n",
      "Result not found. /mnt/data/qizhezhang/pytracking/pytracking/tracking_results//atom/default/GOT-10k_Val_000082.txt\n",
      "Result not found. /mnt/data/qizhezhang/pytracking/pytracking/tracking_results//atom/default/GOT-10k_Val_000083.txt\n",
      "Result not found. /mnt/data/qizhezhang/pytracking/pytracking/tracking_results//atom/default/GOT-10k_Val_000084.txt\n",
      "Result not found. /mnt/data/qizhezhang/pytracking/pytracking/tracking_results//atom/default/GOT-10k_Val_000085.txt\n",
      "Result not found. /mnt/data/qizhezhang/pytracking/pytracking/tracking_results//atom/default/GOT-10k_Val_000086.txt\n",
      "Result not found. /mnt/data/qizhezhang/pytracking/pytracking/tracking_results//atom/default/GOT-10k_Val_000087.txt\n",
      "Result not found. /mnt/data/qizhezhang/pytracking/pytracking/tracking_results//atom/default/GOT-10k_Val_000088.txt\n",
      "Result not found. /mnt/data/qizhezhang/pytracking/pytracking/tracking_results//atom/default/GOT-10k_Val_000089.txt\n",
      "Result not found. /mnt/data/qizhezhang/pytracking/pytracking/tracking_results//atom/default/GOT-10k_Val_000090.txt\n",
      "Result not found. /mnt/data/qizhezhang/pytracking/pytracking/tracking_results//atom/default/GOT-10k_Val_000091.txt\n",
      "Result not found. /mnt/data/qizhezhang/pytracking/pytracking/tracking_results//atom/default/GOT-10k_Val_000092.txt\n",
      "Result not found. /mnt/data/qizhezhang/pytracking/pytracking/tracking_results//atom/default/GOT-10k_Val_000093.txt\n",
      "Result not found. /mnt/data/qizhezhang/pytracking/pytracking/tracking_results//atom/default/GOT-10k_Val_000094.txt\n",
      "Result not found. /mnt/data/qizhezhang/pytracking/pytracking/tracking_results//atom/default/GOT-10k_Val_000095.txt\n",
      "Result not found. /mnt/data/qizhezhang/pytracking/pytracking/tracking_results//atom/default/GOT-10k_Val_000096.txt\n",
      "Result not found. /mnt/data/qizhezhang/pytracking/pytracking/tracking_results//atom/default/GOT-10k_Val_000097.txt\n",
      "Result not found. /mnt/data/qizhezhang/pytracking/pytracking/tracking_results//atom/default/GOT-10k_Val_000098.txt\n",
      "Result not found. /mnt/data/qizhezhang/pytracking/pytracking/tracking_results//atom/default/GOT-10k_Val_000099.txt\n",
      "Result not found. /mnt/data/qizhezhang/pytracking/pytracking/tracking_results//atom/default/GOT-10k_Val_000100.txt\n",
      "Result not found. /mnt/data/qizhezhang/pytracking/pytracking/tracking_results//atom/default/GOT-10k_Val_000101.txt\n",
      "Result not found. /mnt/data/qizhezhang/pytracking/pytracking/tracking_results//atom/default/GOT-10k_Val_000102.txt\n",
      "Result not found. /mnt/data/qizhezhang/pytracking/pytracking/tracking_results//atom/default/GOT-10k_Val_000103.txt\n",
      "Result not found. /mnt/data/qizhezhang/pytracking/pytracking/tracking_results//atom/default/GOT-10k_Val_000104.txt\n",
      "Result not found. /mnt/data/qizhezhang/pytracking/pytracking/tracking_results//atom/default/GOT-10k_Val_000105.txt\n",
      "Result not found. /mnt/data/qizhezhang/pytracking/pytracking/tracking_results//atom/default/GOT-10k_Val_000106.txt\n",
      "Result not found. /mnt/data/qizhezhang/pytracking/pytracking/tracking_results//atom/default/GOT-10k_Val_000107.txt\n",
      "Result not found. /mnt/data/qizhezhang/pytracking/pytracking/tracking_results//atom/default/GOT-10k_Val_000108.txt\n",
      "Result not found. /mnt/data/qizhezhang/pytracking/pytracking/tracking_results//atom/default/GOT-10k_Val_000109.txt\n",
      "Result not found. /mnt/data/qizhezhang/pytracking/pytracking/tracking_results//atom/default/GOT-10k_Val_000110.txt\n",
      "Result not found. /mnt/data/qizhezhang/pytracking/pytracking/tracking_results//atom/default/GOT-10k_Val_000111.txt\n",
      "Result not found. /mnt/data/qizhezhang/pytracking/pytracking/tracking_results//atom/default/GOT-10k_Val_000112.txt\n",
      "Result not found. /mnt/data/qizhezhang/pytracking/pytracking/tracking_results//atom/default/GOT-10k_Val_000113.txt\n",
      "Result not found. /mnt/data/qizhezhang/pytracking/pytracking/tracking_results//atom/default/GOT-10k_Val_000114.txt\n",
      "Result not found. /mnt/data/qizhezhang/pytracking/pytracking/tracking_results//atom/default/GOT-10k_Val_000115.txt\n",
      "Result not found. /mnt/data/qizhezhang/pytracking/pytracking/tracking_results//atom/default/GOT-10k_Val_000116.txt\n",
      "Result not found. /mnt/data/qizhezhang/pytracking/pytracking/tracking_results//atom/default/GOT-10k_Val_000117.txt\n",
      "Result not found. /mnt/data/qizhezhang/pytracking/pytracking/tracking_results//atom/default/GOT-10k_Val_000118.txt\n",
      "Result not found. /mnt/data/qizhezhang/pytracking/pytracking/tracking_results//atom/default/GOT-10k_Val_000119.txt\n",
      "Result not found. /mnt/data/qizhezhang/pytracking/pytracking/tracking_results//atom/default/GOT-10k_Val_000120.txt\n",
      "Result not found. /mnt/data/qizhezhang/pytracking/pytracking/tracking_results//atom/default/GOT-10k_Val_000121.txt\n",
      "Result not found. /mnt/data/qizhezhang/pytracking/pytracking/tracking_results//atom/default/GOT-10k_Val_000122.txt\n",
      "Result not found. /mnt/data/qizhezhang/pytracking/pytracking/tracking_results//atom/default/GOT-10k_Val_000123.txt\n",
      "Result not found. /mnt/data/qizhezhang/pytracking/pytracking/tracking_results//atom/default/GOT-10k_Val_000124.txt\n",
      "Result not found. /mnt/data/qizhezhang/pytracking/pytracking/tracking_results//atom/default/GOT-10k_Val_000125.txt\n",
      "Result not found. /mnt/data/qizhezhang/pytracking/pytracking/tracking_results//atom/default/GOT-10k_Val_000126.txt\n",
      "Result not found. /mnt/data/qizhezhang/pytracking/pytracking/tracking_results//atom/default/GOT-10k_Val_000127.txt\n",
      "Result not found. /mnt/data/qizhezhang/pytracking/pytracking/tracking_results//atom/default/GOT-10k_Val_000128.txt\n",
      "Result not found. /mnt/data/qizhezhang/pytracking/pytracking/tracking_results//atom/default/GOT-10k_Val_000129.txt\n",
      "Result not found. /mnt/data/qizhezhang/pytracking/pytracking/tracking_results//atom/default/GOT-10k_Val_000130.txt\n",
      "Result not found. /mnt/data/qizhezhang/pytracking/pytracking/tracking_results//atom/default/GOT-10k_Val_000131.txt\n",
      "Result not found. /mnt/data/qizhezhang/pytracking/pytracking/tracking_results//atom/default/GOT-10k_Val_000132.txt\n",
      "Result not found. /mnt/data/qizhezhang/pytracking/pytracking/tracking_results//atom/default/GOT-10k_Val_000133.txt\n",
      "Result not found. /mnt/data/qizhezhang/pytracking/pytracking/tracking_results//atom/default/GOT-10k_Val_000134.txt\n",
      "Result not found. /mnt/data/qizhezhang/pytracking/pytracking/tracking_results//atom/default/GOT-10k_Val_000135.txt\n",
      "Result not found. /mnt/data/qizhezhang/pytracking/pytracking/tracking_results//atom/default/GOT-10k_Val_000136.txt\n",
      "Result not found. /mnt/data/qizhezhang/pytracking/pytracking/tracking_results//atom/default/GOT-10k_Val_000137.txt\n",
      "Result not found. /mnt/data/qizhezhang/pytracking/pytracking/tracking_results//atom/default/GOT-10k_Val_000138.txt\n",
      "Result not found. /mnt/data/qizhezhang/pytracking/pytracking/tracking_results//atom/default/GOT-10k_Val_000139.txt\n",
      "Result not found. /mnt/data/qizhezhang/pytracking/pytracking/tracking_results//atom/default/GOT-10k_Val_000140.txt\n",
      "Result not found. /mnt/data/qizhezhang/pytracking/pytracking/tracking_results//atom/default/GOT-10k_Val_000141.txt\n",
      "Result not found. /mnt/data/qizhezhang/pytracking/pytracking/tracking_results//atom/default/GOT-10k_Val_000142.txt\n",
      "Result not found. /mnt/data/qizhezhang/pytracking/pytracking/tracking_results//atom/default/GOT-10k_Val_000143.txt\n",
      "Result not found. /mnt/data/qizhezhang/pytracking/pytracking/tracking_results//atom/default/GOT-10k_Val_000144.txt\n",
      "Result not found. /mnt/data/qizhezhang/pytracking/pytracking/tracking_results//atom/default/GOT-10k_Val_000145.txt\n",
      "Result not found. /mnt/data/qizhezhang/pytracking/pytracking/tracking_results//atom/default/GOT-10k_Val_000146.txt\n",
      "Result not found. /mnt/data/qizhezhang/pytracking/pytracking/tracking_results//atom/default/GOT-10k_Val_000147.txt\n",
      "Result not found. /mnt/data/qizhezhang/pytracking/pytracking/tracking_results//atom/default/GOT-10k_Val_000148.txt\n",
      "Result not found. /mnt/data/qizhezhang/pytracking/pytracking/tracking_results//atom/default/GOT-10k_Val_000149.txt\n",
      "Result not found. /mnt/data/qizhezhang/pytracking/pytracking/tracking_results//atom/default/GOT-10k_Val_000150.txt\n",
      "Result not found. /mnt/data/qizhezhang/pytracking/pytracking/tracking_results//atom/default/GOT-10k_Val_000151.txt\n",
      "Result not found. /mnt/data/qizhezhang/pytracking/pytracking/tracking_results//atom/default/GOT-10k_Val_000152.txt\n",
      "Result not found. /mnt/data/qizhezhang/pytracking/pytracking/tracking_results//atom/default/GOT-10k_Val_000153.txt\n",
      "Result not found. /mnt/data/qizhezhang/pytracking/pytracking/tracking_results//atom/default/GOT-10k_Val_000154.txt\n",
      "Result not found. /mnt/data/qizhezhang/pytracking/pytracking/tracking_results//atom/default/GOT-10k_Val_000155.txt\n",
      "Result not found. /mnt/data/qizhezhang/pytracking/pytracking/tracking_results//atom/default/GOT-10k_Val_000156.txt\n",
      "Result not found. /mnt/data/qizhezhang/pytracking/pytracking/tracking_results//atom/default/GOT-10k_Val_000157.txt\n",
      "Result not found. /mnt/data/qizhezhang/pytracking/pytracking/tracking_results//atom/default/GOT-10k_Val_000158.txt\n",
      "Result not found. /mnt/data/qizhezhang/pytracking/pytracking/tracking_results//atom/default/GOT-10k_Val_000159.txt\n",
      "Result not found. /mnt/data/qizhezhang/pytracking/pytracking/tracking_results//atom/default/GOT-10k_Val_000160.txt\n",
      "Result not found. /mnt/data/qizhezhang/pytracking/pytracking/tracking_results//atom/default/GOT-10k_Val_000161.txt\n",
      "Result not found. /mnt/data/qizhezhang/pytracking/pytracking/tracking_results//atom/default/GOT-10k_Val_000162.txt\n",
      "Result not found. /mnt/data/qizhezhang/pytracking/pytracking/tracking_results//atom/default/GOT-10k_Val_000163.txt\n",
      "Result not found. /mnt/data/qizhezhang/pytracking/pytracking/tracking_results//atom/default/GOT-10k_Val_000164.txt\n",
      "Result not found. /mnt/data/qizhezhang/pytracking/pytracking/tracking_results//atom/default/GOT-10k_Val_000165.txt\n",
      "Result not found. /mnt/data/qizhezhang/pytracking/pytracking/tracking_results//atom/default/GOT-10k_Val_000166.txt\n",
      "Result not found. /mnt/data/qizhezhang/pytracking/pytracking/tracking_results//atom/default/GOT-10k_Val_000167.txt\n",
      "Result not found. /mnt/data/qizhezhang/pytracking/pytracking/tracking_results//atom/default/GOT-10k_Val_000168.txt\n",
      "Result not found. /mnt/data/qizhezhang/pytracking/pytracking/tracking_results//atom/default/GOT-10k_Val_000169.txt\n",
      "Result not found. /mnt/data/qizhezhang/pytracking/pytracking/tracking_results//atom/default/GOT-10k_Val_000170.txt\n",
      "Result not found. /mnt/data/qizhezhang/pytracking/pytracking/tracking_results//atom/default/GOT-10k_Val_000171.txt\n",
      "Result not found. /mnt/data/qizhezhang/pytracking/pytracking/tracking_results//atom/default/GOT-10k_Val_000172.txt\n",
      "Result not found. /mnt/data/qizhezhang/pytracking/pytracking/tracking_results//atom/default/GOT-10k_Val_000173.txt\n",
      "Result not found. /mnt/data/qizhezhang/pytracking/pytracking/tracking_results//atom/default/GOT-10k_Val_000174.txt\n",
      "Result not found. /mnt/data/qizhezhang/pytracking/pytracking/tracking_results//atom/default/GOT-10k_Val_000175.txt\n",
      "Result not found. /mnt/data/qizhezhang/pytracking/pytracking/tracking_results//atom/default/GOT-10k_Val_000176.txt\n",
      "Result not found. /mnt/data/qizhezhang/pytracking/pytracking/tracking_results//atom/default/GOT-10k_Val_000177.txt\n",
      "Result not found. /mnt/data/qizhezhang/pytracking/pytracking/tracking_results//atom/default/GOT-10k_Val_000178.txt\n",
      "Result not found. /mnt/data/qizhezhang/pytracking/pytracking/tracking_results//atom/default/GOT-10k_Val_000179.txt\n",
      "Result not found. /mnt/data/qizhezhang/pytracking/pytracking/tracking_results//atom/default/GOT-10k_Val_000180.txt\n",
      "\n",
      "\n",
      "Computed results over 180 / 180 sequences\n",
      "\n",
      "Reporting results over 180 / 180 sequences\n",
      "\n",
      "yt2019_sub      | AUC        | OP50       | OP75       | Precision    |\n",
      "ATOM            | 25.28      | 29.86      | 21.57      | 20.20        |\n",
      "\n"
     ]
    },
    {
     "name": "stderr",
     "output_type": "stream",
     "text": [
      "\n"
     ]
    }
   ],
   "source": [
    "trackers = []\n",
    "trackers.extend(trackerlist('atom', 'default', None, 'ATOM'))\n",
    "dataset = get_dataset('got10k_val')\n",
    "# plot_results(trackers, dataset, 'yt2019_sub', merge_results=False, plot_types=('success', 'prec'), \n",
    "#              skip_missing_seq=False, force_evaluation=True, plot_bin_gap=0.05, exclude_invalid_frames=False)\n",
    "print_results_vos(trackers, dataset, 'yt2019_sub', merge_results=True, plot_types=('success', 'prec'), \n",
    "             skip_missing_seq=False, force_evaluation=True, plot_bin_gap=0.05, exclude_invalid_frames=False)\n",
    "            \n",
    "# dataset = get_dataset('otb')\n",
    "# print_results(trackers, dataset, 'OTB', merge_results=True, plot_types=('success', 'prec'), \n",
    "#              skip_missing_seq=False, force_evaluation=True, plot_bin_gap=0.05, exclude_invalid_frames=False)\n",
    "# print_per_sequence_results(trackers, dataset, 'OTB', merge_results=True, force_evaluation=False)"
   ]
  },
  {
   "cell_type": "markdown",
   "metadata": {},
   "source": [
    "## Plots for OTB, NFS and UAV"
   ]
  },
  {
   "cell_type": "code",
   "execution_count": null,
   "metadata": {},
   "outputs": [],
   "source": [
    "trackers = []\n",
    "trackers.extend(trackerlist('atom', 'default', range(0,5), 'ATOM'))\n",
    "trackers.extend(trackerlist('dimp', 'dimp18', range(0,5), 'DiMP18'))\n",
    "trackers.extend(trackerlist('dimp', 'dimp50', range(0,5), 'DiMP50'))\n",
    "trackers.extend(trackerlist('dimp', 'prdimp18', range(0,5), 'PrDiMP18'))\n",
    "trackers.extend(trackerlist('dimp', 'prdimp50', range(0,5), 'PrDiMP50'))\n",
    "\n",
    "dataset = get_dataset('otb')\n",
    "plot_results(trackers, dataset, 'OTB', merge_results=True, plot_types=('success', 'prec'), \n",
    "             skip_missing_seq=False, force_evaluation=True, plot_bin_gap=0.05, exclude_invalid_frames=False)\n",
    "\n",
    "dataset = get_dataset('nfs')\n",
    "plot_results(trackers, dataset, 'NFS', merge_results=True, plot_types=('success', 'prec'), \n",
    "             skip_missing_seq=False, force_evaluation=True, plot_bin_gap=0.05, exclude_invalid_frames=False)\n",
    "\n",
    "dataset = get_dataset('uav')\n",
    "plot_results(trackers, dataset, 'UAV', merge_results=True, plot_types=('success', 'prec'), \n",
    "             skip_missing_seq=False, force_evaluation=True, plot_bin_gap=0.05, exclude_invalid_frames=False)\n",
    "\n",
    "dataset = get_dataset('otb', 'nfs', 'uav')\n",
    "plot_results(trackers, dataset, 'OTB+NFS+UAV', merge_results=True, plot_types=('success', 'prec'), \n",
    "             skip_missing_seq=False, force_evaluation=True, plot_bin_gap=0.05, exclude_invalid_frames=False)"
   ]
  },
  {
   "cell_type": "markdown",
   "metadata": {},
   "source": [
    "## Plots for LaSOT"
   ]
  },
  {
   "cell_type": "code",
   "execution_count": null,
   "metadata": {},
   "outputs": [],
   "source": [
    "trackers = []\n",
    "trackers.extend(trackerlist('atom', 'default', range(0,5), 'ATOM'))\n",
    "trackers.extend(trackerlist('dimp', 'dimp18', range(0,5), 'DiMP18'))\n",
    "trackers.extend(trackerlist('dimp', 'dimp50', range(0,5), 'DiMP50'))\n",
    "trackers.extend(trackerlist('dimp', 'prdimp18', range(0,5), 'PrDiMP18'))\n",
    "trackers.extend(trackerlist('dimp', 'prdimp50', range(0,5), 'PrDiMP50'))\n",
    "\n",
    "dataset = get_dataset('lasot')\n",
    "plot_results(trackers, dataset, 'LaSOT', merge_results=True, plot_types=('success'), \n",
    "             skip_missing_seq=False, force_evaluation=True, plot_bin_gap=0.05)"
   ]
  },
  {
   "cell_type": "markdown",
   "metadata": {},
   "source": [
    "## Tables for OTB, NFS, UAV and LaSOT"
   ]
  },
  {
   "cell_type": "code",
   "execution_count": null,
   "metadata": {},
   "outputs": [],
   "source": [
    "trackers = []\n",
    "trackers.extend(trackerlist('atom', 'default', range(0,5), 'ATOM'))\n",
    "trackers.extend(trackerlist('dimp', 'dimp18', range(0,5), 'DiMP18'))\n",
    "trackers.extend(trackerlist('dimp', 'dimp50', range(0,5), 'DiMP50'))\n",
    "trackers.extend(trackerlist('dimp', 'prdimp18', range(0,5), 'PrDiMP18'))\n",
    "trackers.extend(trackerlist('dimp', 'prdimp50', range(0,5), 'PrDiMP50'))\n",
    "\n",
    "dataset = get_dataset('otb')\n",
    "print_results(trackers, dataset, 'OTB', merge_results=True, plot_types=('success', 'prec', 'norm_prec'))\n",
    "\n",
    "dataset = get_dataset('nfs')\n",
    "print_results(trackers, dataset, 'NFS', merge_results=True, plot_types=('success', 'prec', 'norm_prec'))\n",
    "\n",
    "dataset = get_dataset('uav')\n",
    "print_results(trackers, dataset, 'UAV', merge_results=True, plot_types=('success', 'prec', 'norm_prec'))\n",
    "\n",
    "dataset = get_dataset('otb', 'nfs', 'uav')\n",
    "print_results(trackers, dataset, 'OTB+NFS+UAV', merge_results=True, plot_types=('success', 'prec', 'norm_prec'))\n",
    "\n",
    "dataset = get_dataset('lasot')\n",
    "print_results(trackers, dataset, 'LaSOT', merge_results=True, plot_types=('success', 'prec', 'norm_prec'))"
   ]
  },
  {
   "cell_type": "markdown",
   "metadata": {},
   "source": [
    "## Filtered per-sequence results"
   ]
  },
  {
   "cell_type": "code",
   "execution_count": null,
   "metadata": {},
   "outputs": [],
   "source": [
    "# Print per sequence results for sequences where all trackers fail, i.e. all trackers have average overlap in percentage of less than 10.0\n",
    "filter_criteria = {'mode': 'ao_max', 'threshold': 10.0}\n",
    "dataset = get_dataset('otb', 'nfs', 'uav')\n",
    "print_per_sequence_results(trackers, dataset, 'OTB+NFS+UAV', merge_results=True, filter_criteria=filter_criteria, force_evaluation=False)"
   ]
  },
  {
   "cell_type": "code",
   "execution_count": null,
   "metadata": {},
   "outputs": [],
   "source": [
    "# Print per sequence results for sequences where at least one tracker fails, i.e. a tracker has average overlap in percentage of less than 10.0\n",
    "filter_criteria = {'mode': 'ao_min', 'threshold': 10.0}\n",
    "dataset = get_dataset('otb', 'nfs', 'uav')\n",
    "print_per_sequence_results(trackers, dataset, 'OTB+NFS+UAV', merge_results=True, filter_criteria=filter_criteria, force_evaluation=False)"
   ]
  },
  {
   "cell_type": "code",
   "execution_count": null,
   "metadata": {},
   "outputs": [],
   "source": [
    "# Print per sequence results for sequences where the trackers have differing behavior.\n",
    "# i.e. average overlap in percentage for different trackers on a sequence differ by at least 40.0\n",
    "filter_criteria = {'mode': 'delta_ao', 'threshold': 40.0}\n",
    "dataset = get_dataset('otb', 'nfs', 'uav')\n",
    "print_per_sequence_results(trackers, dataset, 'OTB+NFS+UAV', merge_results=True, filter_criteria=filter_criteria, force_evaluation=False)"
   ]
  },
  {
   "cell_type": "code",
   "execution_count": null,
   "metadata": {},
   "outputs": [],
   "source": [
    "# Print per sequence results for all sequences\n",
    "filter_criteria = None\n",
    "dataset = get_dataset('otb', 'nfs', 'uav')\n",
    "print_per_sequence_results(trackers, dataset, 'OTB+NFS+UAV', merge_results=True, filter_criteria=filter_criteria, force_evaluation=False)"
   ]
  }
 ],
 "metadata": {
  "kernelspec": {
   "display_name": "Python 3",
   "language": "python",
   "name": "python3"
  },
  "language_info": {
   "codemirror_mode": {
    "name": "ipython",
    "version": 3
   },
   "file_extension": ".py",
   "mimetype": "text/x-python",
   "name": "python",
   "nbconvert_exporter": "python",
   "pygments_lexer": "ipython3",
   "version": "3.7.16"
  }
 },
 "nbformat": 4,
 "nbformat_minor": 4
}
